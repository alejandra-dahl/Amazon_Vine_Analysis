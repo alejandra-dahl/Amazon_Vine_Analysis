{
  "cells": [
    {
      "cell_type": "code",
      "execution_count": 2,
      "metadata": {
        "colab": {
          "base_uri": "https://localhost:8080/"
        },
        "id": "BchDkXFbNyI8",
        "outputId": "e83925c4-f315-410d-a1a7-106c039cd746"
      },
      "outputs": [
        {
          "name": "stdout",
          "output_type": "stream",
          "text": [
            "\r0% [Working]\r            \rGet:1 http://ppa.launchpad.net/c2d4u.team/c2d4u4.0+/ubuntu bionic InRelease [15.9 kB]\n",
            "\r0% [Waiting for headers] [Connecting to security.ubuntu.com (91.189.91.39)] [Co\r                                                                               \rHit:2 http://archive.ubuntu.com/ubuntu bionic InRelease\n",
            "\r0% [Connecting to security.ubuntu.com (91.189.91.39)] [Connecting to cloud.r-pr\r                                                                               \rGet:3 http://archive.ubuntu.com/ubuntu bionic-updates InRelease [88.7 kB]\n",
            "\r0% [3 InRelease 43.1 kB/88.7 kB 49%] [Connecting to security.ubuntu.com (91.189\r0% [2 InRelease gpgv 242 kB] [3 InRelease 47.5 kB/88.7 kB 54%] [Connecting to s\r                                                                               \rHit:4 http://ppa.launchpad.net/cran/libgit2/ubuntu bionic InRelease\n",
            "\r0% [2 InRelease gpgv 242 kB] [3 InRelease 47.5 kB/88.7 kB 54%] [Connecting to s\r0% [2 InRelease gpgv 242 kB] [Waiting for headers] [Connecting to security.ubun\r                                                                               \rGet:5 http://archive.ubuntu.com/ubuntu bionic-backports InRelease [74.6 kB]\n",
            "\r0% [2 InRelease gpgv 242 kB] [5 InRelease 8,393 B/74.6 kB 11%] [Connecting to s\r                                                                               \rHit:6 http://ppa.launchpad.net/deadsnakes/ppa/ubuntu bionic InRelease\n",
            "Get:7 http://ppa.launchpad.net/graphics-drivers/ppa/ubuntu bionic InRelease [21.3 kB]\n",
            "Get:8 https://cloud.r-project.org/bin/linux/ubuntu bionic-cran40/ InRelease [3,626 B]\n",
            "Get:9 http://security.ubuntu.com/ubuntu bionic-security InRelease [88.7 kB]\n",
            "Ign:10 https://developer.download.nvidia.com/compute/cuda/repos/ubuntu1804/x86_64  InRelease\n",
            "Ign:11 https://developer.download.nvidia.com/compute/machine-learning/repos/ubuntu1804/x86_64  InRelease\n",
            "Get:12 https://developer.download.nvidia.com/compute/cuda/repos/ubuntu1804/x86_64  Release [696 B]\n",
            "Hit:13 https://developer.download.nvidia.com/compute/machine-learning/repos/ubuntu1804/x86_64  Release\n",
            "Get:14 https://developer.download.nvidia.com/compute/cuda/repos/ubuntu1804/x86_64  Release.gpg [836 B]\n",
            "Get:15 http://ppa.launchpad.net/c2d4u.team/c2d4u4.0+/ubuntu bionic/main Sources [1,827 kB]\n",
            "Get:16 http://ppa.launchpad.net/c2d4u.team/c2d4u4.0+/ubuntu bionic/main amd64 Packages [936 kB]\n",
            "Get:17 http://archive.ubuntu.com/ubuntu bionic-updates/main amd64 Packages [3,035 kB]\n",
            "Get:18 http://archive.ubuntu.com/ubuntu bionic-updates/universe amd64 Packages [2,252 kB]\n",
            "Get:19 http://archive.ubuntu.com/ubuntu bionic-updates/restricted amd64 Packages [840 kB]\n",
            "Get:20 http://ppa.launchpad.net/graphics-drivers/ppa/ubuntu bionic/main amd64 Packages [42.8 kB]\n",
            "Get:21 https://cloud.r-project.org/bin/linux/ubuntu bionic-cran40/ Packages [76.8 kB]\n",
            "Get:23 https://developer.download.nvidia.com/compute/cuda/repos/ubuntu1804/x86_64  Packages [930 kB]\n",
            "Get:24 http://security.ubuntu.com/ubuntu bionic-security/restricted amd64 Packages [806 kB]\n",
            "Get:25 http://security.ubuntu.com/ubuntu bionic-security/main amd64 Packages [2,596 kB]\n",
            "Get:26 http://security.ubuntu.com/ubuntu bionic-security/universe amd64 Packages [1,474 kB]\n",
            "Fetched 15.1 MB in 4s (3,919 kB/s)\n",
            "Reading package lists... Done\n"
          ]
        }
      ],
      "source": [
        "import os\n",
        "# Find the latest version of spark 3.0 from http://www.apache.org/dist/spark/ and enter as the spark version\n",
        "# For example:\n",
        "# spark_version = 'spark-3.0.3'\n",
        "spark_version = 'spark-3.0.3'\n",
        "os.environ['SPARK_VERSION']=spark_version\n",
        "\n",
        "# Install Spark and Java\n",
        "!apt-get update\n",
        "!apt-get install openjdk-11-jdk-headless -qq > /dev/null\n",
        "!wget -q http://www.apache.org/dist/spark/$SPARK_VERSION/$SPARK_VERSION-bin-hadoop2.7.tgz\n",
        "!tar xf $SPARK_VERSION-bin-hadoop2.7.tgz\n",
        "!pip install -q findspark\n",
        "\n",
        "# Set Environment Variables\n",
        "import os\n",
        "os.environ[\"JAVA_HOME\"] = \"/usr/lib/jvm/java-11-openjdk-amd64\"\n",
        "os.environ[\"SPARK_HOME\"] = f\"/content/{spark_version}-bin-hadoop2.7\"\n",
        "\n",
        "# Start a SparkSession\n",
        "import findspark\n",
        "findspark.init()"
      ]
    },
    {
      "cell_type": "code",
      "execution_count": 3,
      "metadata": {
        "colab": {
          "base_uri": "https://localhost:8080/"
        },
        "id": "xg6B5mUfv_03",
        "outputId": "b9afe81a-1574-4998-cd47-a44745bd5302"
      },
      "outputs": [
        {
          "name": "stdout",
          "output_type": "stream",
          "text": [
            "--2022-02-27 22:42:11--  https://jdbc.postgresql.org/download/postgresql-42.2.16.jar\n",
            "Resolving jdbc.postgresql.org (jdbc.postgresql.org)... 72.32.157.228, 2001:4800:3e1:1::228\n",
            "Connecting to jdbc.postgresql.org (jdbc.postgresql.org)|72.32.157.228|:443... connected.\n",
            "HTTP request sent, awaiting response... 200 OK\n",
            "Length: 1002883 (979K) [application/java-archive]\n",
            "Saving to: ‘postgresql-42.2.16.jar’\n",
            "\n",
            "postgresql-42.2.16. 100%[===================>] 979.38K  1.68MB/s    in 0.6s    \n",
            "\n",
            "2022-02-27 22:42:13 (1.68 MB/s) - ‘postgresql-42.2.16.jar’ saved [1002883/1002883]\n",
            "\n"
          ]
        }
      ],
      "source": [
        "# Download the Postgres driver that will allow Spark to interact with Postgres.\n",
        "!wget https://jdbc.postgresql.org/download/postgresql-42.2.16.jar"
      ]
    },
    {
      "cell_type": "code",
      "execution_count": 4,
      "metadata": {
        "id": "MJ6GcjnpwMwz"
      },
      "outputs": [],
      "source": [
        "# Start Spark Session\n",
        "from pyspark.sql import SparkSession\n",
        "spark = SparkSession.builder.appName(\"M16-Amazon-Challenge\").config(\"spark.driver.extraClassPath\",\"/content/postgresql-42.2.16.jar\").getOrCreate()"
      ]
    },
    {
      "cell_type": "markdown",
      "metadata": {
        "id": "T-cUZEu5wSR3"
      },
      "source": [
        "**Extract the Dataset You Used in Deliverable 1**"
      ]
    },
    {
      "cell_type": "code",
      "execution_count": 5,
      "metadata": {
        "colab": {
          "base_uri": "https://localhost:8080/"
        },
        "id": "G8w43N0_wryF",
        "outputId": "8a7d019a-83cb-48ce-ef2f-cae20ded0f44"
      },
      "outputs": [
        {
          "name": "stdout",
          "output_type": "stream",
          "text": [
            "+-----------+-----------+--------------+----------+--------------+--------------------+----------------+-----------+-------------+-----------+----+-----------------+--------------------+--------------------+-----------+\n",
            "|marketplace|customer_id|     review_id|product_id|product_parent|       product_title|product_category|star_rating|helpful_votes|total_votes|vine|verified_purchase|     review_headline|         review_body|review_date|\n",
            "+-----------+-----------+--------------+----------+--------------+--------------------+----------------+-----------+-------------+-----------+----+-----------------+--------------------+--------------------+-----------+\n",
            "|         US|   50423057|R135Q3VZ4DQN5N|B00JWXFDMG|     657335467|Everbling Purple ...|         Jewelry|          5|            0|          0|   N|                Y|           Beauties!|so beautiful even...| 2015-08-31|\n",
            "|         US|   11262325|R2N0QQ6R4T7YRY|B00W5T1H9W|      26030170|925 Sterling Silv...|         Jewelry|          5|            0|          0|   N|                N|      Great product.|Great product.. I...| 2015-08-31|\n",
            "|         US|   27541121|R3N5JE5Y4T6W5M|B00M2L6KFY|     697845240|Sterling Silver C...|         Jewelry|          5|            0|          0|   N|                Y|Exactly as pictur...|Exactly as pictur...| 2015-08-31|\n",
            "|         US|    5350721|R2I150CX5IVY9Q|B0006SW2WU|     569859289|Surgical Stainles...|         Jewelry|          5|            0|          0|   N|                Y|          Five Stars|Love it. Fits gre...| 2015-08-31|\n",
            "|         US|   24484424|R1RM9ICOOA9MQ3|B009YPDW70|     332947422|Sterling Silver F...|         Jewelry|          5|            0|          0|   N|                Y|... a Mother's Da...|Got this as a Mot...| 2015-08-31|\n",
            "|         US|     457767|R2J2KMDL10UMSH|B00QGA8XZM|     424804582|CHOOSE YOUR COLOR...|         Jewelry|          5|            0|          0|   N|                Y|          Five Stars|I Love It Make Me...| 2015-08-31|\n",
            "|         US|   31009358|R3R9ZUFA4TB4FQ|B00L0N0E8E|     589441783|Metal Factory 925...|         Jewelry|          5|            0|          0|   N|                Y|          Five Stars|True to size, unique| 2015-08-31|\n",
            "|         US|    7034628|R3UQ8VAQN7R6WL|B00DMWQKWA|     517428445|niceEshop(TM)Clas...|         Jewelry|          5|            0|          0|   N|                Y|          Five Stars|This necklace is ...| 2015-08-31|\n",
            "|         US|   34608636|R1FXZ69C01JNQM|B00THLHAGA|     320313750|Genuine Natural B...|         Jewelry|          5|            0|          0|   N|                Y|          Five Stars|        just perfect| 2015-08-31|\n",
            "|         US|   44972687| RY36LB4OW0FFS|B00UXSEOHY|     589365488|MBOX Expandable A...|         Jewelry|          5|            0|          0|   N|                Y|          Five Stars|           Love it !| 2015-08-31|\n",
            "|         US|   16684508| R6PKS54PC6ZY2|B00XGRYGVS|     217045013|Set of 3 Nose Rin...|         Jewelry|          1|            4|          4|   N|                Y|I had high hopes ...|They didn't even ...| 2015-08-31|\n",
            "|         US|   23493178|R1LYSAH0IECVWB|B00AJ2VU8A|     972853757|3-row White A Gra...|         Jewelry|          5|            0|          0|   N|                Y|This is a real ni...|This is a real ni...| 2015-08-31|\n",
            "|         US|     108294|R1UN0IZI3XQ3E2|B00LE5Y100|     979375701|KONOV Mens Stainl...|         Jewelry|          5|            2|          3|   N|                Y|             AMAZING|This is a very co...| 2015-08-31|\n",
            "|         US|   25810742| RIKDXD8QGL99S|B013E0AOH6|     619592796|TEMEGO Jewelry Me...|         Jewelry|          5|            1|          1|   N|                Y|          Five Stars|Great quality for...| 2015-08-31|\n",
            "|         US|   12037665| RUZCQTXZVGUFH|B00XAWUP96|     783863439|Royal Blue/White ...|         Jewelry|          4|            1|          1|   N|                Y|A Little Smaller ...|I like the bracel...| 2015-08-31|\n",
            "|         US|   51793466|R35CD4IHO3RP9H|B00WD82F1O|     655270378|10-11mm Baroque F...|         Jewelry|          5|            1|          1|   N|                Y|Pretty and Versatile|This is pretty an...| 2015-08-31|\n",
            "|         US|     127508|R13YD66XC9221U|B00JP4XCSO|     592155747|Sankuwen® Fashion...|         Jewelry|          1|            0|          0|   N|                N|Don't get this li...|Don't get this li...| 2015-08-31|\n",
            "|         US|   38430946| RHWG4JRVDSEYY|B00PZSM384|     622179716|zjskin6688 store ...|         Jewelry|          3|            1|          1|   N|                Y|         Three Stars|Not what I expect...| 2015-08-31|\n",
            "|         US|   33684654|R3SPIKMJ5IWHX8|B00VLMW18K|      36759824|Scheppend Polymer...|         Jewelry|          4|            0|          0|   N|                Y|          Four Stars|Bought these for ...| 2015-08-31|\n",
            "|         US|    5068631| RS19ACU7KWWNE|B00U5LDBB4|     575109200|Horizontal Sidewa...|         Jewelry|          5|            1|          1|   N|                Y|          Five Stars|Pretty, and very ...| 2015-08-31|\n",
            "+-----------+-----------+--------------+----------+--------------+--------------------+----------------+-----------+-------------+-----------+----+-----------------+--------------------+--------------------+-----------+\n",
            "only showing top 20 rows\n",
            "\n"
          ]
        }
      ],
      "source": [
        "from pyspark import SparkFiles\n",
        "url = \"https://s3.amazonaws.com/amazon-reviews-pds/tsv/amazon_reviews_us_Jewelry_v1_00.tsv.gz\"\n",
        "spark.sparkContext.addFile(url)\n",
        "df = spark.read.option(\"encoding\", \"UTF-8\").csv(SparkFiles.get(\"\"), sep=\"\\t\", header=True, inferSchema=True)\n",
        "df.show()"
      ]
    },
    {
      "cell_type": "markdown",
      "metadata": {
        "id": "qV9Q_I5mxozL"
      },
      "source": [
        "**Pick Reviews Greater Than or Equal to 20**"
      ]
    },
    {
      "cell_type": "code",
      "execution_count": 6,
      "metadata": {
        "colab": {
          "base_uri": "https://localhost:8080/"
        },
        "id": "hW16x0pYwydW",
        "outputId": "032a5bd1-0e91-4897-8177-aedff912e0e7"
      },
      "outputs": [
        {
          "name": "stdout",
          "output_type": "stream",
          "text": [
            "+-----------+-----------+--------------+----------+--------------+--------------------+----------------+-----------+-------------+-----------+----+-----------------+--------------------+--------------------+-----------+\n",
            "|marketplace|customer_id|     review_id|product_id|product_parent|       product_title|product_category|star_rating|helpful_votes|total_votes|vine|verified_purchase|     review_headline|         review_body|review_date|\n",
            "+-----------+-----------+--------------+----------+--------------+--------------------+----------------+-----------+-------------+-----------+----+-----------------+--------------------+--------------------+-----------+\n",
            "|         US|   18238567|R16YC6SMGKA8SR|B00MD99R9G|     692935467|Fun Daisy New Des...|         Jewelry|          5|           23|         23|   N|                Y|Beautiful stateme...|This is the first...| 2015-08-31|\n",
            "|         US|   35346149| R5O4WE9UM60B0|B00Q8BYTAW|      48877050|Women's New Simpl...|         Jewelry|          1|           29|         29|   N|                Y|I did expect it t...|Let me preface th...| 2015-08-31|\n",
            "|         US|   41095424|R2EKRVCRC7U0IY|B00PJIPZGW|     677765845|Antique Brass Ton...|         Jewelry|          1|           22|         24|   N|                Y|            One Star|Poor quality!<br ...| 2015-08-31|\n",
            "|         US|    4039595|R2OKV47GETH0L7|B00VUTQVDK|     939458680|Jewelrieshop Stai...|         Jewelry|          5|           24|         24|   N|                Y|     Great ear studs|These are great. ...| 2015-08-31|\n",
            "|         US|   38319820| R36LII9IITE17|B00MB9YCDO|     367067706|ArRord Beautiful ...|         Jewelry|          1|           22|         24|   N|                Y|              AWFUL!|Took 4 weeks to a...| 2015-08-31|\n",
            "|         US|   18658991|R35VKNE16PFY0H|B00YFNZYDG|     670585095|Bracelets For Wom...|         Jewelry|          5|           22|         24|   N|                N|Luckily I found t...|[[VIDEOID:6e75766...| 2015-08-30|\n",
            "|         US|     421300|R3TG008LHHZZIN|B00FZOTLC4|     350810365|14k Yellow Gold B...|         Jewelry|          5|          123|        125|   N|                Y|    Sweet and simple|[[VIDEOID:66915b7...| 2015-08-30|\n",
            "|         US|    9330212|R2FYQBKCC1XG4M|B009P4G8U8|      80161480|Sterling Silver R...|         Jewelry|          5|           20|         20|   N|                Y|          Five Stars|Gorgeous!! Very s...| 2015-08-30|\n",
            "|         US|   14873596| R63PV336NI5X7|B00UDF11O6|     712133361|Fashion Brand 925...|         Jewelry|          1|           27|         28|   N|                Y|     Broken bracelet|The bracelet brok...| 2015-08-29|\n",
            "|         US|    1278386|R1R42WPHB5ZSWI|B007VFHOQ0|     201950929|Steampunk FIRE ne...|         Jewelry|          5|           51|         52|   N|                Y|Lovely, don't lis...|This is a gorgeou...| 2015-08-29|\n",
            "+-----------+-----------+--------------+----------+--------------+--------------------+----------------+-----------+-------------+-----------+----+-----------------+--------------------+--------------------+-----------+\n",
            "only showing top 10 rows\n",
            "\n"
          ]
        }
      ],
      "source": [
        "# Filter Data, Create DataFrame, Retrieve 'total_votes' equal to or greater than 20\n",
        "vine_df = df.filter(\"total_votes >= 20\")\n",
        "vine_df.show(10)"
      ]
    },
    {
      "cell_type": "markdown",
      "metadata": {
        "id": "xLJlBuUS3igW"
      },
      "source": [
        "**Filter Data Frame, Create New, Retrieve 'helpful_votes' Divided By 'total_votes' is => 50%**"
      ]
    },
    {
      "cell_type": "code",
      "execution_count": 7,
      "metadata": {
        "colab": {
          "base_uri": "https://localhost:8080/"
        },
        "id": "jZY5emXO3g6m",
        "outputId": "8ac05a3e-e22e-4bfe-f560-6b6eac2800ba"
      },
      "outputs": [
        {
          "name": "stdout",
          "output_type": "stream",
          "text": [
            "+-----------+-----------+--------------+----------+--------------+--------------------+----------------+-----------+-------------+-----------+----+-----------------+--------------------+--------------------+-----------+\n",
            "|marketplace|customer_id|     review_id|product_id|product_parent|       product_title|product_category|star_rating|helpful_votes|total_votes|vine|verified_purchase|     review_headline|         review_body|review_date|\n",
            "+-----------+-----------+--------------+----------+--------------+--------------------+----------------+-----------+-------------+-----------+----+-----------------+--------------------+--------------------+-----------+\n",
            "|         US|   18238567|R16YC6SMGKA8SR|B00MD99R9G|     692935467|Fun Daisy New Des...|         Jewelry|          5|           23|         23|   N|                Y|Beautiful stateme...|This is the first...| 2015-08-31|\n",
            "|         US|   35346149| R5O4WE9UM60B0|B00Q8BYTAW|      48877050|Women's New Simpl...|         Jewelry|          1|           29|         29|   N|                Y|I did expect it t...|Let me preface th...| 2015-08-31|\n",
            "|         US|   41095424|R2EKRVCRC7U0IY|B00PJIPZGW|     677765845|Antique Brass Ton...|         Jewelry|          1|           22|         24|   N|                Y|            One Star|Poor quality!<br ...| 2015-08-31|\n",
            "|         US|    4039595|R2OKV47GETH0L7|B00VUTQVDK|     939458680|Jewelrieshop Stai...|         Jewelry|          5|           24|         24|   N|                Y|     Great ear studs|These are great. ...| 2015-08-31|\n",
            "|         US|   38319820| R36LII9IITE17|B00MB9YCDO|     367067706|ArRord Beautiful ...|         Jewelry|          1|           22|         24|   N|                Y|              AWFUL!|Took 4 weeks to a...| 2015-08-31|\n",
            "|         US|   18658991|R35VKNE16PFY0H|B00YFNZYDG|     670585095|Bracelets For Wom...|         Jewelry|          5|           22|         24|   N|                N|Luckily I found t...|[[VIDEOID:6e75766...| 2015-08-30|\n",
            "|         US|     421300|R3TG008LHHZZIN|B00FZOTLC4|     350810365|14k Yellow Gold B...|         Jewelry|          5|          123|        125|   N|                Y|    Sweet and simple|[[VIDEOID:66915b7...| 2015-08-30|\n",
            "|         US|    9330212|R2FYQBKCC1XG4M|B009P4G8U8|      80161480|Sterling Silver R...|         Jewelry|          5|           20|         20|   N|                Y|          Five Stars|Gorgeous!! Very s...| 2015-08-30|\n",
            "|         US|   14873596| R63PV336NI5X7|B00UDF11O6|     712133361|Fashion Brand 925...|         Jewelry|          1|           27|         28|   N|                Y|     Broken bracelet|The bracelet brok...| 2015-08-29|\n",
            "|         US|    1278386|R1R42WPHB5ZSWI|B007VFHOQ0|     201950929|Steampunk FIRE ne...|         Jewelry|          5|           51|         52|   N|                Y|Lovely, don't lis...|This is a gorgeou...| 2015-08-29|\n",
            "|         US|     156241| RXSS0QZJE1TEO|B00VNDYPSQ|     690721039|Fashion Jewelry B...|         Jewelry|          1|           35|         35|   N|                Y|            One Star|Buckle was very w...| 2015-08-29|\n",
            "|         US|    2659922| RGS9C5XKWVYP9|B00FBAR1X8|     293039249|10KT White Gold P...|         Jewelry|          1|           24|         24|   N|                Y| unfortunated defect|I was excited to ...| 2015-08-29|\n",
            "|         US|   24596251|R3R5BWMKH1EUIQ|B010QAMEFM|     673336713|CZ Crystal Leaves...|         Jewelry|          5|           26|         27|   N|                N|      Elegant design|Elegant design. I...| 2015-08-29|\n",
            "|         US|    6026413|R2KBDT7RGO1G86|B00BLRNZNK|     228968920|1.50 Carat Round ...|         Jewelry|          3|           33|         39|   N|                Y|It's a beautiful ...|It's a beautiful ...| 2015-08-29|\n",
            "|         US|   14287196|R2WA09RFYT69GB|B00KHWJEFS|     410889586|20 Pieces Plugs S...|         Jewelry|          5|           21|         22|   N|                Y|Insane price, fas...|These are great! ...| 2015-08-29|\n",
            "|         US|   34811153| RYNTUAMCHU3W4|B00UUQ6C5G|     455061130|Rinhoo Random Cha...|         Jewelry|          5|           22|         22|   N|                Y|    Absolutely great|I don't normally ...| 2015-08-29|\n",
            "|         US|   13165713|R3U5NCDM6NLHLC|B00GN3N4EM|     780515323|1.45 Carat (ctw) ...|         Jewelry|          5|           29|         30|   N|                Y|Great Price on a ...|It really is a be...| 2015-08-28|\n",
            "|         US|   45512891| R8708W8U0Z89A|B011W7X1PK|     721871970|Ring Resizer, Rin...|         Jewelry|          2|           37|         38|   N|                Y|I'll pay for inno...|Unlike the other ...| 2015-08-28|\n",
            "|         US|   19703321| RFT7R66D3SA54|B00P8I61NO|     848363259|18k Plated Stainl...|         Jewelry|          5|           23|         24|   N|                Y|              Great!|I ordered the ros...| 2015-08-28|\n",
            "|         US|   42190015|R1OI5TTOS49U8R|B00KR7MLHG|     380199757|Charm.L Grace Cla...|         Jewelry|          5|           33|         34|   N|                Y|                  😍|Stunning! Worth e...| 2015-08-28|\n",
            "+-----------+-----------+--------------+----------+--------------+--------------------+----------------+-----------+-------------+-----------+----+-----------------+--------------------+--------------------+-----------+\n",
            "only showing top 20 rows\n",
            "\n"
          ]
        }
      ],
      "source": [
        "# Filter/New DF\n",
        "helpful_vine_df = vine_df.filter(\"helpful_votes/total_votes>=0.5\")\n",
        "helpful_vine_df.show()"
      ]
    },
    {
      "cell_type": "markdown",
      "metadata": {
        "id": "253XqGBo7KSg"
      },
      "source": [
        "**Retrieve All Rows Where Review was Written as part of the Vine program**"
      ]
    },
    {
      "cell_type": "code",
      "execution_count": 8,
      "metadata": {
        "colab": {
          "base_uri": "https://localhost:8080/"
        },
        "id": "xiah64qX7G78",
        "outputId": "0680263b-7f0f-439b-ec4c-124f098abd5a"
      },
      "outputs": [
        {
          "name": "stdout",
          "output_type": "stream",
          "text": [
            "+-----------+-----------+--------------+----------+--------------+--------------------+----------------+-----------+-------------+-----------+----+-----------------+--------------------+--------------------+-----------+\n",
            "|marketplace|customer_id|     review_id|product_id|product_parent|       product_title|product_category|star_rating|helpful_votes|total_votes|vine|verified_purchase|     review_headline|         review_body|review_date|\n",
            "+-----------+-----------+--------------+----------+--------------+--------------------+----------------+-----------+-------------+-----------+----+-----------------+--------------------+--------------------+-----------+\n",
            "|         US|   51635935|R15PXA9XU9ZKSU|B00TDNZV4A|     280424829|Sterling Silver C...|         Jewelry|          4|           29|         29|   Y|                N|So classy and gor...|You can wear thes...| 2015-05-09|\n",
            "|         US|   52833354|R2LJ4QYQ4PYDEH|B00TDNZUYG|     280424829|Sterling Silver C...|         Jewelry|          5|           24|         26|   Y|                N|           Stunning!|I was very pleasa...| 2015-05-06|\n",
            "|         US|   28779404|R2PJWWQZ37WCIC|B00S5VKNIA|     940533137|Sterling Silver F...|         Jewelry|          5|           95|         96|   Y|                N| Perfect for Gifting|These earrings co...| 2015-03-08|\n",
            "|         US|   52539517|R33G2VDKRN2USY|B00S5VKNIA|     940533137|Sterling Silver F...|         Jewelry|          5|           21|         21|   Y|                N|beautiful texturi...|I ordered these e...| 2015-03-08|\n",
            "|         US|   16216813|R13R4X37T2U50A|B00M0NZKSC|     325259179|Sterling Silver M...|         Jewelry|          4|           52|         57|   Y|                N|        A neat idea!|This pendant is v...| 2014-10-17|\n",
            "|         US|   52121266|R1X1J2NAQ39DF6|B00M0NZKSC|     325259179|Sterling Silver M...|         Jewelry|          4|           29|         34|   Y|                N| A breath of spring!|This is a really ...| 2014-10-15|\n",
            "|         US|   41073142|R2UV5XHFNMPXOX|B00KL3SJKE|     382870358|Sterling Silver A...|         Jewelry|          5|           60|         61|   Y|                N|beautiful, dainty...|This is a very pr...| 2014-07-26|\n",
            "|         US|   30526933|R31V08BCC9X3MF|B00AEL5UQ4|     529722536|Silver Tone Metal...|         Jewelry|          5|           18|         22|   Y|                N|          So pretty!|I absolutely love...| 2013-12-25|\n",
            "|         US|   48198113|R2G00QWTYW9N2G|B00AEL5UQ4|     529722536|Silver Tone Metal...|         Jewelry|          5|           86|         91|   Y|                N| Inexpensive Pandora|I have dropped lo...| 2013-12-22|\n",
            "|         US|   30377162| RL8H3NKKP989J|B00AEL5UQ4|     529722536|Silver Tone Metal...|         Jewelry|          5|           30|         34|   Y|                N|Cool version of a...|The newest rage i...| 2013-12-19|\n",
            "|         US|   28327886| RZ65QBOJ8ZNRN|B00E1ZXXAE|     371647383|Myia Passiello \"T...|         Jewelry|          4|           19|         22|   Y|                N|Nice and shiny; L...|This bracelet is ...| 2013-10-27|\n",
            "|         US|   12532175| RDZBWH5MFEQY1|B00E1ZXXAE|     371647383|Myia Passiello \"T...|         Jewelry|          5|           18|         22|   Y|                N|Nice sparkles for...|I love diamonds. ...| 2013-10-25|\n",
            "|         US|   16013665|R24SU7KP57HE8L|B00E1ZXX3G|     991918901|Myia Passiello Es...|         Jewelry|          4|           25|         26|   Y|                N|     Sparkly Twinkly|This is an attrac...| 2013-10-24|\n",
            "|         US|   52801456| RV3V9VIC29R8S|B002KMIQ4I|     239052079|18k Yellow Gold-P...|         Jewelry|          2|           66|         68|   Y|                N|    Check the stones|This pendant pres...| 2012-06-29|\n",
            "|         US|   18642523|R31AR3XSFSHY1B|B004RE85M0|     653601016|10k White Gold Pr...|         Jewelry|          4|           33|         35|   Y|                N|Pretty Little Ear...|At one-fifth cara...| 2012-06-27|\n",
            "|         US|   14342177|R3VWAKQ4JXGE55|B005NGUU7E|     386585934|Sterling Silver P...|         Jewelry|          5|           33|         34|   Y|                N|a picture is not ...|I agree with a pr...| 2012-06-18|\n",
            "|         US|   15399984| RNZ2BP0EHN7IK|B005NGUU7E|     386585934|Sterling Silver P...|         Jewelry|          5|           20|         20|   Y|                N|Swarovski descrip...|This is a lovely ...| 2012-06-09|\n",
            "|         US|   42638584| RXKITVQ3MN3PS|B007PCTK2U|     261242993|Sterling Silver 4...|         Jewelry|          4|           22|         23|   Y|                N|Beautiful inside/...|Ha! I feel like a...| 2012-05-31|\n",
            "|         US|   52607619|R3TZE1OYDVZPRD|B006GZOYD2|     957426009|Genuine Gemstone ...|         Jewelry|          5|           23|         24|   Y|                N|Really beautiful ...|I have purchased ...| 2012-02-29|\n",
            "|         US|   25730154|R3FO353G2ET17M|B005ITGCQO|      76996197|Sterling Silver R...|         Jewelry|          4|           23|         24|   Y|                N|Can You Tell That...|I didn't know wha...| 2011-10-01|\n",
            "|         US|   38162244| RHWHKPCJQEXUP|B005ITG5T8|     772117604|Sterling Silver W...|         Jewelry|          3|           30|         31|   Y|                N|Not exactly what ...|While there is a ...| 2011-09-22|\n",
            "+-----------+-----------+--------------+----------+--------------+--------------------+----------------+-----------+-------------+-----------+----+-----------------+--------------------+--------------------+-----------+\n",
            "\n"
          ]
        }
      ],
      "source": [
        "# Filter/New DF, vine=='Y'\n",
        "vine_review_df = helpful_vine_df.filter(\"vine == 'Y'\")\n",
        "vine_review_df.show(30)"
      ]
    },
    {
      "cell_type": "code",
      "execution_count": 9,
      "metadata": {
        "colab": {
          "base_uri": "https://localhost:8080/"
        },
        "id": "Wca2NFBNWICX",
        "outputId": "794c95b0-f559-44a2-ff65-25148d516fe0"
      },
      "outputs": [
        {
          "data": {
            "text/plain": [
              "21"
            ]
          },
          "execution_count": 9,
          "metadata": {},
          "output_type": "execute_result"
        }
      ],
      "source": [
        "vine_review_df.count()"
      ]
    },
    {
      "cell_type": "code",
      "execution_count": 10,
      "metadata": {
        "colab": {
          "base_uri": "https://localhost:8080/"
        },
        "id": "JKDGihl575FO",
        "outputId": "6d8ad22c-7a94-4471-e63b-3660b16a6304"
      },
      "outputs": [
        {
          "name": "stdout",
          "output_type": "stream",
          "text": [
            "+-----------+-----------+--------------+----------+--------------+--------------------+----------------+-----------+-------------+-----------+----+-----------------+--------------------+--------------------+-----------+\n",
            "|marketplace|customer_id|     review_id|product_id|product_parent|       product_title|product_category|star_rating|helpful_votes|total_votes|vine|verified_purchase|     review_headline|         review_body|review_date|\n",
            "+-----------+-----------+--------------+----------+--------------+--------------------+----------------+-----------+-------------+-----------+----+-----------------+--------------------+--------------------+-----------+\n",
            "|         US|   18238567|R16YC6SMGKA8SR|B00MD99R9G|     692935467|Fun Daisy New Des...|         Jewelry|          5|           23|         23|   N|                Y|Beautiful stateme...|This is the first...| 2015-08-31|\n",
            "|         US|   35346149| R5O4WE9UM60B0|B00Q8BYTAW|      48877050|Women's New Simpl...|         Jewelry|          1|           29|         29|   N|                Y|I did expect it t...|Let me preface th...| 2015-08-31|\n",
            "|         US|   41095424|R2EKRVCRC7U0IY|B00PJIPZGW|     677765845|Antique Brass Ton...|         Jewelry|          1|           22|         24|   N|                Y|            One Star|Poor quality!<br ...| 2015-08-31|\n",
            "|         US|    4039595|R2OKV47GETH0L7|B00VUTQVDK|     939458680|Jewelrieshop Stai...|         Jewelry|          5|           24|         24|   N|                Y|     Great ear studs|These are great. ...| 2015-08-31|\n",
            "|         US|   38319820| R36LII9IITE17|B00MB9YCDO|     367067706|ArRord Beautiful ...|         Jewelry|          1|           22|         24|   N|                Y|              AWFUL!|Took 4 weeks to a...| 2015-08-31|\n",
            "|         US|   18658991|R35VKNE16PFY0H|B00YFNZYDG|     670585095|Bracelets For Wom...|         Jewelry|          5|           22|         24|   N|                N|Luckily I found t...|[[VIDEOID:6e75766...| 2015-08-30|\n",
            "|         US|     421300|R3TG008LHHZZIN|B00FZOTLC4|     350810365|14k Yellow Gold B...|         Jewelry|          5|          123|        125|   N|                Y|    Sweet and simple|[[VIDEOID:66915b7...| 2015-08-30|\n",
            "|         US|    9330212|R2FYQBKCC1XG4M|B009P4G8U8|      80161480|Sterling Silver R...|         Jewelry|          5|           20|         20|   N|                Y|          Five Stars|Gorgeous!! Very s...| 2015-08-30|\n",
            "|         US|   14873596| R63PV336NI5X7|B00UDF11O6|     712133361|Fashion Brand 925...|         Jewelry|          1|           27|         28|   N|                Y|     Broken bracelet|The bracelet brok...| 2015-08-29|\n",
            "|         US|    1278386|R1R42WPHB5ZSWI|B007VFHOQ0|     201950929|Steampunk FIRE ne...|         Jewelry|          5|           51|         52|   N|                Y|Lovely, don't lis...|This is a gorgeou...| 2015-08-29|\n",
            "|         US|     156241| RXSS0QZJE1TEO|B00VNDYPSQ|     690721039|Fashion Jewelry B...|         Jewelry|          1|           35|         35|   N|                Y|            One Star|Buckle was very w...| 2015-08-29|\n",
            "|         US|    2659922| RGS9C5XKWVYP9|B00FBAR1X8|     293039249|10KT White Gold P...|         Jewelry|          1|           24|         24|   N|                Y| unfortunated defect|I was excited to ...| 2015-08-29|\n",
            "|         US|   24596251|R3R5BWMKH1EUIQ|B010QAMEFM|     673336713|CZ Crystal Leaves...|         Jewelry|          5|           26|         27|   N|                N|      Elegant design|Elegant design. I...| 2015-08-29|\n",
            "|         US|    6026413|R2KBDT7RGO1G86|B00BLRNZNK|     228968920|1.50 Carat Round ...|         Jewelry|          3|           33|         39|   N|                Y|It's a beautiful ...|It's a beautiful ...| 2015-08-29|\n",
            "|         US|   14287196|R2WA09RFYT69GB|B00KHWJEFS|     410889586|20 Pieces Plugs S...|         Jewelry|          5|           21|         22|   N|                Y|Insane price, fas...|These are great! ...| 2015-08-29|\n",
            "|         US|   34811153| RYNTUAMCHU3W4|B00UUQ6C5G|     455061130|Rinhoo Random Cha...|         Jewelry|          5|           22|         22|   N|                Y|    Absolutely great|I don't normally ...| 2015-08-29|\n",
            "|         US|   13165713|R3U5NCDM6NLHLC|B00GN3N4EM|     780515323|1.45 Carat (ctw) ...|         Jewelry|          5|           29|         30|   N|                Y|Great Price on a ...|It really is a be...| 2015-08-28|\n",
            "|         US|   45512891| R8708W8U0Z89A|B011W7X1PK|     721871970|Ring Resizer, Rin...|         Jewelry|          2|           37|         38|   N|                Y|I'll pay for inno...|Unlike the other ...| 2015-08-28|\n",
            "|         US|   19703321| RFT7R66D3SA54|B00P8I61NO|     848363259|18k Plated Stainl...|         Jewelry|          5|           23|         24|   N|                Y|              Great!|I ordered the ros...| 2015-08-28|\n",
            "|         US|   42190015|R1OI5TTOS49U8R|B00KR7MLHG|     380199757|Charm.L Grace Cla...|         Jewelry|          5|           33|         34|   N|                Y|                  😍|Stunning! Worth e...| 2015-08-28|\n",
            "+-----------+-----------+--------------+----------+--------------+--------------------+----------------+-----------+-------------+-----------+----+-----------------+--------------------+--------------------+-----------+\n",
            "only showing top 20 rows\n",
            "\n"
          ]
        }
      ],
      "source": [
        "# Filter/New Df, vine == 'N'\n",
        "nonvine_review_df = helpful_vine_df.filter(\"vine == 'N'\")\n",
        "nonvine_review_df.show()"
      ]
    },
    {
      "cell_type": "code",
      "execution_count": 11,
      "metadata": {
        "colab": {
          "base_uri": "https://localhost:8080/"
        },
        "id": "3QD0pp8HaQBI",
        "outputId": "254f904d-0ea8-46cf-a79c-b3533e4a9b34"
      },
      "outputs": [
        {
          "data": {
            "text/plain": [
              "7689"
            ]
          },
          "execution_count": 11,
          "metadata": {},
          "output_type": "execute_result"
        }
      ],
      "source": [
        "nonvine_review_df.count()"
      ]
    },
    {
      "cell_type": "markdown",
      "metadata": {
        "id": "W-t0tX7E8MnM"
      },
      "source": [
        "**Determine total # of reviews, # of 5-star reviews, and % of 5-star reviews for paid vs unpaid**"
      ]
    },
    {
      "cell_type": "code",
      "execution_count": 12,
      "metadata": {
        "colab": {
          "base_uri": "https://localhost:8080/"
        },
        "id": "GJIunUFI8aYH",
        "outputId": "9dfd9443-5394-4ea8-8c67-b9053b08eabc"
      },
      "outputs": [
        {
          "data": {
            "text/plain": [
              "7710"
            ]
          },
          "execution_count": 12,
          "metadata": {},
          "output_type": "execute_result"
        }
      ],
      "source": [
        "# Total number of helpful reviews\n",
        "helpful_vine_df.count()"
      ]
    },
    {
      "cell_type": "code",
      "execution_count": 15,
      "metadata": {
        "colab": {
          "base_uri": "https://localhost:8080/"
        },
        "id": "vUpIlGNB8s64",
        "outputId": "71a0ed37-7b71-4272-eded-25bf3b6c844e"
      },
      "outputs": [
        {
          "name": "stdout",
          "output_type": "stream",
          "text": [
            "+-----------+-----------+--------------+----------+--------------+--------------------+----------------+-----------+-------------+-----------+----+-----------------+--------------------+--------------------+-----------+\n",
            "|marketplace|customer_id|     review_id|product_id|product_parent|       product_title|product_category|star_rating|helpful_votes|total_votes|vine|verified_purchase|     review_headline|         review_body|review_date|\n",
            "+-----------+-----------+--------------+----------+--------------+--------------------+----------------+-----------+-------------+-----------+----+-----------------+--------------------+--------------------+-----------+\n",
            "|         US|   18238567|R16YC6SMGKA8SR|B00MD99R9G|     692935467|Fun Daisy New Des...|         Jewelry|          5|           23|         23|   N|                Y|Beautiful stateme...|This is the first...| 2015-08-31|\n",
            "|         US|    4039595|R2OKV47GETH0L7|B00VUTQVDK|     939458680|Jewelrieshop Stai...|         Jewelry|          5|           24|         24|   N|                Y|     Great ear studs|These are great. ...| 2015-08-31|\n",
            "|         US|   18658991|R35VKNE16PFY0H|B00YFNZYDG|     670585095|Bracelets For Wom...|         Jewelry|          5|           22|         24|   N|                N|Luckily I found t...|[[VIDEOID:6e75766...| 2015-08-30|\n",
            "|         US|     421300|R3TG008LHHZZIN|B00FZOTLC4|     350810365|14k Yellow Gold B...|         Jewelry|          5|          123|        125|   N|                Y|    Sweet and simple|[[VIDEOID:66915b7...| 2015-08-30|\n",
            "|         US|    9330212|R2FYQBKCC1XG4M|B009P4G8U8|      80161480|Sterling Silver R...|         Jewelry|          5|           20|         20|   N|                Y|          Five Stars|Gorgeous!! Very s...| 2015-08-30|\n",
            "|         US|    1278386|R1R42WPHB5ZSWI|B007VFHOQ0|     201950929|Steampunk FIRE ne...|         Jewelry|          5|           51|         52|   N|                Y|Lovely, don't lis...|This is a gorgeou...| 2015-08-29|\n",
            "|         US|   24596251|R3R5BWMKH1EUIQ|B010QAMEFM|     673336713|CZ Crystal Leaves...|         Jewelry|          5|           26|         27|   N|                N|      Elegant design|Elegant design. I...| 2015-08-29|\n",
            "|         US|   14287196|R2WA09RFYT69GB|B00KHWJEFS|     410889586|20 Pieces Plugs S...|         Jewelry|          5|           21|         22|   N|                Y|Insane price, fas...|These are great! ...| 2015-08-29|\n",
            "|         US|   34811153| RYNTUAMCHU3W4|B00UUQ6C5G|     455061130|Rinhoo Random Cha...|         Jewelry|          5|           22|         22|   N|                Y|    Absolutely great|I don't normally ...| 2015-08-29|\n",
            "|         US|   13165713|R3U5NCDM6NLHLC|B00GN3N4EM|     780515323|1.45 Carat (ctw) ...|         Jewelry|          5|           29|         30|   N|                Y|Great Price on a ...|It really is a be...| 2015-08-28|\n",
            "|         US|   19703321| RFT7R66D3SA54|B00P8I61NO|     848363259|18k Plated Stainl...|         Jewelry|          5|           23|         24|   N|                Y|              Great!|I ordered the ros...| 2015-08-28|\n",
            "|         US|   42190015|R1OI5TTOS49U8R|B00KR7MLHG|     380199757|Charm.L Grace Cla...|         Jewelry|          5|           33|         34|   N|                Y|                  😍|Stunning! Worth e...| 2015-08-28|\n",
            "|         US|    1241778|R360QAUTFX3XGS|B00V554CL2|     799215081|Women's Charms Wh...|         Jewelry|          5|           43|         47|   N|                Y|         Pretty ring|I received this p...| 2015-08-28|\n",
            "|         US|    2021565| R8E254ARTMOH2|B00UBH989G|     767191731|14k White Gold Pr...|         Jewelry|          5|           42|         42|   N|                N|          Five Stars|Absolutely beauti...| 2015-08-28|\n",
            "|         US|   24487578| R6HKG5VVEAFPQ|B00ZIK4NH8|     741124942|Pinbo Vintage Des...|         Jewelry|          5|           22|         24|   N|                Y|I purchased this ...|I purchased this ...| 2015-08-28|\n",
            "|         US|     124465|R1V4IQ6DBQQVVM|B00LEBEYFQ|     545140720|King Will GENTLEM...|         Jewelry|          5|           31|         33|   N|                Y|Thanks for excell...|Came 2 days after...| 2015-08-27|\n",
            "|         US|   10226329|R3H1XXXM8RFRPM|B00SCER86A|     190892321|Gold Tone Womens ...|         Jewelry|          5|           49|         49|   N|                Y|OMG this is such ...|OMG this is such ...| 2015-08-27|\n",
            "|         US|   14462546|R29SOCJ7PJMNCD|B00X12EK3C|     323501476|CHOOSE YOUR COLOR...|         Jewelry|          5|           22|         22|   N|                Y|          Five Stars|Smaller than expe...| 2015-08-27|\n",
            "|         US|   16745948|R18819P9TZBOU9|B008JGW1L8|     374667656|4MM High Polish L...|         Jewelry|          5|           18|         20|   N|                Y|        great choice|I purchased this ...| 2015-08-26|\n",
            "|         US|    9385967|R1SWBFURJ1G68W|B010U175JC|     737722801|2 Carat Diamond C...|         Jewelry|          5|           64|         66|   N|                Y|         Very happy!|My husband and I ...| 2015-08-26|\n",
            "+-----------+-----------+--------------+----------+--------------+--------------------+----------------+-----------+-------------+-----------+----+-----------------+--------------------+--------------------+-----------+\n",
            "only showing top 20 rows\n",
            "\n"
          ]
        }
      ],
      "source": [
        "# Total number of 5-star reviews (data check)\n",
        "five_star_df = helpful_vine_df.filter(\"star_rating == '5'\")\n",
        "five_star_df.show()"
      ]
    },
    {
      "cell_type": "code",
      "execution_count": 16,
      "metadata": {
        "colab": {
          "base_uri": "https://localhost:8080/"
        },
        "id": "9-bY_S_CFBCr",
        "outputId": "c10d1116-7443-4ae0-ee8d-bbc328537819"
      },
      "outputs": [
        {
          "data": {
            "text/plain": [
              "4455"
            ]
          },
          "execution_count": 16,
          "metadata": {},
          "output_type": "execute_result"
        }
      ],
      "source": [
        "# Total helpful 5 star (data-check)\n",
        "five_star_df.count()"
      ]
    },
    {
      "cell_type": "code",
      "execution_count": 17,
      "metadata": {
        "colab": {
          "base_uri": "https://localhost:8080/"
        },
        "id": "1O5pyhe4-7Lq",
        "outputId": "2b454130-7d5d-464f-c9e7-fb5faf628747"
      },
      "outputs": [
        {
          "data": {
            "text/plain": [
              "4444"
            ]
          },
          "execution_count": 17,
          "metadata": {},
          "output_type": "execute_result"
        }
      ],
      "source": [
        "# Total 5-star from non-Vine reviews\n",
        "nonvine_fivestar_df = nonvine_review_df.filter(\"star_rating == '5'\")\n",
        "nonvine_fivestar_df.count()"
      ]
    },
    {
      "cell_type": "code",
      "execution_count": 19,
      "metadata": {
        "colab": {
          "base_uri": "https://localhost:8080/"
        },
        "id": "JmztYZ7gADsB",
        "outputId": "e135af8f-5085-482c-c48a-6ffb8d9eee00"
      },
      "outputs": [
        {
          "name": "stdout",
          "output_type": "stream",
          "text": [
            "57.8% of unpaid reviews with 5-stars\n"
          ]
        }
      ],
      "source": [
        "# 5-star reviews and unpaid\n",
        "percentage_unpaid = (nonvine_fivestar_df.count() / nonvine_review_df.count()) * 100\n",
        "print(str(round(percentage_unpaid, 2)) + \"% of unpaid reviews with 5-stars\")"
      ]
    },
    {
      "cell_type": "code",
      "execution_count": 22,
      "metadata": {
        "colab": {
          "base_uri": "https://localhost:8080/"
        },
        "id": "q3COpT5GKQml",
        "outputId": "2a287f3a-2899-4565-9b1e-a24b438d047b"
      },
      "outputs": [
        {
          "data": {
            "text/plain": [
              "11"
            ]
          },
          "execution_count": 22,
          "metadata": {},
          "output_type": "execute_result"
        }
      ],
      "source": [
        "# Total 5 star from Vine reviews\n",
        "vine_fivestar_df = vine_review_df.filter(\"star_rating == '5'\")\n",
        "vine_fivestar_df.count()"
      ]
    },
    {
      "cell_type": "code",
      "execution_count": 21,
      "metadata": {
        "colab": {
          "base_uri": "https://localhost:8080/"
        },
        "id": "_9Ww7NxmKjvD",
        "outputId": "7ca5ef36-f94a-4939-a89c-e663b0c090e1"
      },
      "outputs": [
        {
          "name": "stdout",
          "output_type": "stream",
          "text": [
            "52.38% of paid reviews with 5-stars\n"
          ]
        }
      ],
      "source": [
        "# 5-star reviews and paid\n",
        "percentage_paid = (vine_fivestar_df.count() / vine_review_df.count()) * 100\n",
        "print(str(round(percentage_paid, 2)) + \"% of paid reviews with 5-stars\")"
      ]
    }
  ],
  "metadata": {
    "colab": {
      "name": "Vine_Review_Analysis.ipynb",
      "provenance": []
    },
    "kernelspec": {
      "display_name": "Python 3",
      "name": "python3"
    },
    "language_info": {
      "name": "python"
    }
  },
  "nbformat": 4,
  "nbformat_minor": 0
}
